{
  "nbformat": 4,
  "nbformat_minor": 0,
  "metadata": {
    "colab": {
      "provenance": []
    },
    "kernelspec": {
      "name": "python3",
      "display_name": "Python 3"
    },
    "language_info": {
      "name": "python"
    }
  },
  "cells": [
    {
      "cell_type": "code",
      "metadata": {
        "id": "qvOTfFfmT95G",
        "colab": {
          "base_uri": "https://localhost:8080/"
        },
        "outputId": "eef2ec8c-12fe-412d-cc43-c21d6b2e2777"
      },
      "source": [
        "import keras\n",
        "from keras.datasets import mnist\n",
        "from keras.models import Sequential\n",
        "from keras.layers import Dense, Dropout, Flatten\n",
        "from keras.layers import Conv2D, MaxPooling2D\n",
        "from keras import backend as K\n",
        "\n",
        "# скачиваем данные и разделяем на надор для обучения и тесовый\n",
        "(x_train, y_train), (x_test, y_test) = mnist.load_data()\n",
        "\n",
        "print(x_train.shape, y_train.shape)"
      ],
      "execution_count": 1,
      "outputs": [
        {
          "output_type": "stream",
          "name": "stdout",
          "text": [
            "Downloading data from https://storage.googleapis.com/tensorflow/tf-keras-datasets/mnist.npz\n",
            "11490434/11490434 [==============================] - 0s 0us/step\n",
            "(60000, 28, 28) (60000,)\n"
          ]
        }
      ]
    },
    {
      "cell_type": "code",
      "source": [
        "num_classes = 10\n",
        "x_train = x_train.reshape(x_train.shape[0], 28, 28, 1)\n",
        "x_test = x_test.reshape(x_test.shape[0], 28, 28, 1)\n",
        "input_shape = (28, 28, 1)\n",
        "\n",
        "# преобразование векторных классов в бинарные матрицы\n",
        "y_train = keras.utils.to_categorical(y_train, num_classes)\n",
        "y_test = keras.utils.to_categorical(y_test, num_classes)\n",
        "\n",
        "x_train = x_train.astype('float32')\n",
        "x_test = x_test.astype('float32')\n",
        "x_train /= 255\n",
        "x_test /= 255\n",
        "print('Размерность x_train:', x_train.shape)\n",
        "print(x_train.shape[0], 'Размер train')\n",
        "print(x_test.shape[0], 'Размер test')"
      ],
      "metadata": {
        "colab": {
          "base_uri": "https://localhost:8080/"
        },
        "id": "PnqTs8Hvp_Km",
        "outputId": "00e3b939-aec9-4fc8-aaff-f9d43d7727dc"
      },
      "execution_count": 2,
      "outputs": [
        {
          "output_type": "stream",
          "name": "stdout",
          "text": [
            "Размерность x_train: (60000, 28, 28, 1)\n",
            "60000 Размер train\n",
            "10000 Размер test\n"
          ]
        }
      ]
    },
    {
      "cell_type": "code",
      "source": [
        "batch_size = 128\n",
        "epochs = 4\n",
        "\n",
        "model = Sequential()\n",
        "model.add(Conv2D(32, kernel_size=(3, 3),activation='relu',input_shape=input_shape))\n",
        "model.add(Conv2D(64, (3, 3), activation='relu'))\n",
        "model.add(MaxPooling2D(pool_size=(2, 2)))\n",
        "model.add(Dropout(0.25))\n",
        "model.add(Flatten())\n",
        "model.add(Dense(256, activation='relu'))\n",
        "model.add(Dropout(0.5))\n",
        "model.add(Dense(num_classes, activation='softmax'))\n",
        "model.compile(loss=keras.losses.categorical_crossentropy,optimizer=keras.optimizers.Adadelta(),metrics=['accuracy'])"
      ],
      "metadata": {
        "id": "RG4qqX2fqBtL"
      },
      "execution_count": 5,
      "outputs": []
    },
    {
      "cell_type": "code",
      "source": [
        "hist = model.fit(x_train, y_train, batch_size = batch_size, epochs=epochs, verbose=1, validation_data=(x_test, y_test))\n",
        "print(\"Модель успешно обучена\")\n",
        "\n",
        "model.save('mnist.h5')\n",
        "print(\"Модель сохранена как mnist.h5\")"
      ],
      "metadata": {
        "colab": {
          "base_uri": "https://localhost:8080/"
        },
        "id": "E8O_s8W6qE6X",
        "outputId": "2e51a402-7e0b-4f3e-9fa8-6a46a647609f"
      },
      "execution_count": 6,
      "outputs": [
        {
          "output_type": "stream",
          "name": "stdout",
          "text": [
            "Epoch 1/4\n",
            "469/469 [==============================] - 155s 330ms/step - loss: 2.2727 - accuracy: 0.1702 - val_loss: 2.2072 - val_accuracy: 0.4758\n",
            "Epoch 2/4\n",
            "469/469 [==============================] - 153s 325ms/step - loss: 2.1703 - accuracy: 0.3391 - val_loss: 2.0843 - val_accuracy: 0.6090\n",
            "Epoch 3/4\n",
            "469/469 [==============================] - 153s 326ms/step - loss: 2.0437 - accuracy: 0.4633 - val_loss: 1.9209 - val_accuracy: 0.6668\n",
            "Epoch 4/4\n",
            "469/469 [==============================] - 155s 331ms/step - loss: 1.8763 - accuracy: 0.5445 - val_loss: 1.7117 - val_accuracy: 0.7100\n",
            "Модель успешно обучена\n",
            "Модель сохранена как mnist.h5\n"
          ]
        }
      ]
    },
    {
      "cell_type": "code",
      "source": [
        "score = model.evaluate(x_test, y_test, verbose=0)\n",
        "print('Потери на тесте:', score[0])\n",
        "print('Точность на тесте:', score[1])"
      ],
      "metadata": {
        "colab": {
          "base_uri": "https://localhost:8080/"
        },
        "id": "k7Xo8it-qKXd",
        "outputId": "97b8e3ed-6037-4004-aa22-f5881660eaae"
      },
      "execution_count": 7,
      "outputs": [
        {
          "output_type": "stream",
          "name": "stdout",
          "text": [
            "Потери на тесте: 1.7117105722427368\n",
            "Точность на тесте: 0.7099999785423279\n"
          ]
        }
      ]
    }
  ]
}